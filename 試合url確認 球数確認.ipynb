{
 "cells": [
  {
   "cell_type": "code",
   "execution_count": null,
   "id": "69a00fa8-d79e-4468-a815-c096e2934727",
   "metadata": {},
   "outputs": [],
   "source": [
    "import pandas as pd\n",
    "import glob\n",
    "import os\n",
    "import openpyxl\n",
    "from pathlib import Path\n",
    "import requests\n",
    "from bs4 import BeautifulSoup\n",
    "import re\n",
    "from time import sleep\n",
    "import time"
   ]
  },
  {
   "cell_type": "code",
   "execution_count": null,
   "id": "4375f9ab-e4f6-48a4-8648-53115058a52c",
   "metadata": {},
   "outputs": [],
   "source": [
    "for id in range(1, 2021010000): #～から～まで繰り返し\n",
    "    sleep(1)\n",
    "    if id%100 == 0:\n",
    "        print(id)\n",
    "    url = 'https://baseball.yahoo.co.jp/npb/player/' + str(id) + '/top'\n",
    "    res = requests.get(url)\n",
    "    res_check = res.status_code\n",
    "    if res_check != 404 : #404のエラーの時\n",
    "        print(f\"あり{url}\")"
   ]
  },
  {
   "cell_type": "code",
   "execution_count": null,
   "id": "eb6a7024-4181-40ad-ada4-69f73af6706b",
   "metadata": {},
   "outputs": [],
   "source": []
  },
  {
   "cell_type": "code",
   "execution_count": null,
   "id": "f430edda-7129-46d7-9f3f-60e563d95237",
   "metadata": {},
   "outputs": [],
   "source": []
  },
  {
   "cell_type": "code",
   "execution_count": null,
   "id": "c9b5ec03-2200-49d0-846c-9fa640e4093f",
   "metadata": {},
   "outputs": [],
   "source": []
  },
  {
   "cell_type": "code",
   "execution_count": null,
   "id": "7afcd8ac-4b7b-476c-ab2f-6a0738c7f27c",
   "metadata": {},
   "outputs": [],
   "source": [
    "#球数確認\n",
    "for id in range(2021000095, 2021000712):\n",
    "    try:\n",
    "        sleep(1)\n",
    "        url = 'https://baseball.yahoo.co.jp/npb/game/' + str(id) + '/stats'\n",
    "        res = requests.get(url)\n",
    "        soup = BeautifulSoup(res.text, 'html.parser')\n",
    "        P_Result = soup.find_all(class_='bb-scoreTable__dataLabel')\n",
    "        P_len = int(len(P_Result) / 12)\n",
    "        P = 0\n",
    "        for num in range(0,P_len):\n",
    "            P += int(P_Result[2+(12*num)].text)\n",
    "\n",
    "        wbs = openpyxl.load_workbook('エクセルファイル/全試合元データ/' + str(id) + '*.xlsx').worksheets[0]\n",
    "        max_row = wbs.max_row -1\n",
    "        if P != max_row:\n",
    "            print(id)\n",
    "            print('球数相違')\n",
    "    except:\n",
    "        pass\n",
    "print('終了')"
   ]
  },
  {
   "cell_type": "code",
   "execution_count": 2,
   "id": "9314e7d5-5930-498a-b629-a00211120ede",
   "metadata": {},
   "outputs": [],
   "source": [
    "ids = [[2021,2,1,1,0],[2022,0,3,5,2]]"
   ]
  },
  {
   "cell_type": "code",
   "execution_count": 5,
   "id": "21838675-08cd-4ed2-9ff3-b4dddbf8f6d5",
   "metadata": {},
   "outputs": [
    {
     "data": {
      "text/plain": [
       "2021"
      ]
     },
     "execution_count": 5,
     "metadata": {},
     "output_type": "execute_result"
    }
   ],
   "source": [
    "ids[0][0]"
   ]
  },
  {
   "cell_type": "code",
   "execution_count": null,
   "id": "65860815-af65-4c47-a0c7-fd18cb41b280",
   "metadata": {},
   "outputs": [],
   "source": []
  }
 ],
 "metadata": {
  "kernelspec": {
   "display_name": "Python 3 (ipykernel)",
   "language": "python",
   "name": "python3"
  },
  "language_info": {
   "codemirror_mode": {
    "name": "ipython",
    "version": 3
   },
   "file_extension": ".py",
   "mimetype": "text/x-python",
   "name": "python",
   "nbconvert_exporter": "python",
   "pygments_lexer": "ipython3",
   "version": "3.8.8"
  }
 },
 "nbformat": 4,
 "nbformat_minor": 5
}
