{
 "cells": [
  {
   "cell_type": "code",
   "execution_count": 2,
   "id": "cf00d754-405b-4808-a9f7-084f7ab03774",
   "metadata": {},
   "outputs": [],
   "source": [
    "import pandas as pd\n",
    "import glob\n",
    "from sqlalchemy import create_engine\n",
    "from pathlib import Path\n",
    
   ]
  },
  {
   "cell_type": "code",
   "execution_count": 2,
   "id": "67dd81cb-2b19-4f83-8188-79e0825df468",
   "metadata": {},
   "outputs": [],
   "source": [
    "#選手情報\n",
    "files = glob.glob('エクセルファイル/選手情報/*.xlsx')#読み込みたいファイル名\n",
    "list = []\n",
    "table_name = \"player\"\n",
    "for file in files:\n",
    "    list.append(pd.read_excel(file))\n",
    "df = pd.concat(list)\n",
    "df.to_sql(table_name, engine, if_exists='replace', index=False)"
   ]
  },
  {
   "cell_type": "code",
   "execution_count": null,
   "id": "f36cd3c7-4536-4f86-ae30-7cf88f3db666",
   "metadata": {},
   "outputs": [],
   "source": []
  },
  {
   "cell_type": "code",
   "execution_count": 2,
   "id": "a62e3ec9-3bed-4367-9c3b-daffb533dcd5",
   "metadata": {},
   "outputs": [],
   "source": [
    "#野手個人成績\n",
    "files = glob.glob('エクセルファイル/野手データまとめ/*.xlsx')#読み込みたいファイル名\n",
    "list = []\n",
    "table_name = \"stats2021\"\n",
    "for file in files:\n",
    "    list.append(pd.read_excel(file))\n",
    "df = pd.concat(list)\n",
    "df.to_sql(table_name, engine, if_exists='replace')"
   ]
  },
  {
   "cell_type": "code",
   "execution_count": null,
   "id": "1acc410e-bc9e-4234-b64b-c3b20885650f",
   "metadata": {},
   "outputs": [],
   "source": []
  },
  {
   "cell_type": "code",
   "execution_count": 3,
   "id": "d4db3762-a206-48ac-a249-c13c5f1f6918",
   "metadata": {},
   "outputs": [],
   "source": [
    "#野手チーム成績\n",
    "files = glob.glob('エクセルファイル/各球団野手データまとめ/*.xlsx')#読み込みたいファイル名\n",
    "list = []\n",
    "table_name = \"teamstats2021\"\n",
    "for file in files:\n",
    "    list.append(pd.read_excel(file))\n",
    "df = pd.concat(list)\n",
    "df.to_sql(table_name, engine, if_exists='replace')"
   ]
  },
  {
   "cell_type": "code",
   "execution_count": null,
   "id": "0c5305de-3839-483a-af8e-6dba199d8423",
   "metadata": {},
   "outputs": [],
   "source": []
  },
  {
   "cell_type": "code",
   "execution_count": 3,
   "id": "7d3e03b3-7680-4445-8f62-c3a4a27bf869",
   "metadata": {},
   "outputs": [],
   "source": [
    "#野手リーグ成績\n",
    "files = glob.glob('エクセルファイル/各リーグ野手データまとめ/*.xlsx')#読み込みたいファイル名\n",
    "list = []\n",
    "table_name = \"leaguestats2021\"\n",
    "for file in files:\n",
    "    list.append(pd.read_excel(file))\n",
    "df = pd.concat(list)\n",
    "df.to_sql(table_name, engine, if_exists='replace')"
   ]
  },
  {
   "cell_type": "code",
   "execution_count": null,
   "id": "cd9436e8-1984-4147-bb2f-7beed62a0c61",
   "metadata": {},
   "outputs": [],
   "source": []
  },
  {
   "cell_type": "code",
   "execution_count": null,
   "id": "321fadc7-37ba-479f-9806-821392bbaa60",
   "metadata": {},
   "outputs": [],
   "source": [
    "#投手個人成績\n",
    "files = glob.glob('エクセルファイル/投手データまとめ/*.xlsx')#読み込みたいファイル名\n",
    "list = []\n",
    "table_name = \"stats2021p\"\n",
    "for file in files:\n",
    "    list.append(pd.read_excel(file))\n",
    "df = pd.concat(list)\n",
    "df.to_sql(table_name, engine, if_exists='replace')"
   ]
  },
  {
   "cell_type": "code",
   "execution_count": null,
   "id": "b835b609-b642-4c3d-bc54-62519e9937e7",
   "metadata": {},
   "outputs": [],
   "source": []
  },
  {
   "cell_type": "code",
   "execution_count": null,
   "id": "bea8d66b-f8ab-4a5b-b017-b42fa928427f",
   "metadata": {},
   "outputs": [],
   "source": [
    "#投手チーム成績\n",
    "files = glob.glob('エクセルファイル/各球団投手データまとめ/*.xlsx')#読み込みたいファイル名\n",
    "list = []\n",
    "table_name = \"teamstats2021p\"\n",
    "for file in files:\n",
    "    list.append(pd.read_excel(file))\n",
    "df = pd.concat(list)\n",
    "df.to_sql(table_name, engine, if_exists='replace')"
   ]
  },
  {
   "cell_type": "code",
   "execution_count": null,
   "id": "7488128c-c874-4c25-b0cf-a7c968247f91",
   "metadata": {},
   "outputs": [],
   "source": []
  },
  {
   "cell_type": "code",
   "execution_count": null,
   "id": "37fb9498-fdf0-4be9-94a4-fdde17591baf",
   "metadata": {},
   "outputs": [],
   "source": [
    "#野手リーグ成績\n",
    "files = glob.glob('エクセルファイル/各リーグ投手データまとめ/*.xlsx')#読み込みたいファイル名\n",
    "list = []\n",
    "table_name = \"leaguestats2021p\"\n",
    "for file in files:\n",
    "    list.append(pd.read_excel(file))\n",
    "df = pd.concat(list)\n",
    "df.to_sql(table_name, engine, if_exists='replace')"
   ]
  },
  {
   "cell_type": "code",
   "execution_count": null,
   "id": "8940fda3-367a-481d-bca9-25fff719a7c1",
   "metadata": {},
   "outputs": [],
   "source": []
  },
  {
   "cell_type": "code",
   "execution_count": null,
   "id": "1ab0c3e2-48b4-476a-bc84-9b51861b9772",
   "metadata": {},
   "outputs": [],
   "source": []
  },
  {
   "cell_type": "code",
   "execution_count": null,
   "id": "920b0573-8d6e-4924-8f1c-ddf4e2dcb7af",
   "metadata": {},
   "outputs": [],
   "source": []
  }
 ],
 "metadata": {
  "kernelspec": {
   "display_name": "Python 3",
   "language": "python",
   "name": "python3"
  },
  "language_info": {
   "codemirror_mode": {
    "name": "ipython",
    "version": 3
   },
   "file_extension": ".py",
   "mimetype": "text/x-python",
   "name": "python",
   "nbconvert_exporter": "python",
   "pygments_lexer": "ipython3",
   "version": "3.8.8"
  }
 },
 "nbformat": 4,
 "nbformat_minor": 5
}
