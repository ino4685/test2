{
 "cells": [
  {
   "cell_type": "code",
   "execution_count": 1,
   "id": "69a00fa8-d79e-4468-a815-c096e2934727",
   "metadata": {},
   "outputs": [],
   "source": [
    "import glob\n",
    "import os\n",
    "import shutil"
   ]
  },
  {
   "cell_type": "code",
   "execution_count": 2,
   "id": "4b1ae4f8-eb08-4c8c-affc-b6b8dfab9777",
   "metadata": {},
   "outputs": [],
   "source": [
    "file_delpath = 'エクセルファイル/チーム成績/*/*/*/*/加工前'\n",
    "file_delpath2 = 'エクセルファイル/チーム成績/*/*/*/加工前'\n",
    "\n",
    "del_files = glob.glob(file_delpath)\n",
    "\n",
    "for i in range(len(del_files)):\n",
    "    del_file = del_files[i]\n",
    "    shutil.rmtree(del_file)\n",
    "    \n",
    "del_files2 = glob.glob(file_delpath2)\n",
    "\n",
    "for j in range(len(del_files2)):\n",
    "    del_file2 = del_files2[j]\n",
    "    shutil.rmtree(del_file2)"
   ]
  },
  {
   "cell_type": "code",
   "execution_count": null,
   "id": "cb035610-5d49-4ee1-b5ba-1514ad9ae7bd",
   "metadata": {},
   "outputs": [],
   "source": []
  },
  {
   "cell_type": "code",
   "execution_count": null,
   "id": "26eb0d8a-7b36-45cd-9a6d-098add2f86c9",
   "metadata": {},
   "outputs": [],
   "source": []
  },
  {
   "cell_type": "code",
   "execution_count": null,
   "id": "9e88b40d-74af-421b-bd25-328b7f07d4ca",
   "metadata": {},
   "outputs": [],
   "source": []
  },
  {
   "cell_type": "code",
   "execution_count": null,
   "id": "fd7df980-8d67-46de-b541-b15c37546d80",
   "metadata": {},
   "outputs": [],
   "source": []
  },
  {
   "cell_type": "code",
   "execution_count": null,
   "id": "4be73026-a713-4ac5-a68e-a7a2d8d331ed",
   "metadata": {},
   "outputs": [],
   "source": []
  },
  {
   "cell_type": "code",
   "execution_count": null,
   "id": "ad510107-f8fe-49bb-9f03-68158ecbb98f",
   "metadata": {},
   "outputs": [],
   "source": []
  },
  {
   "cell_type": "code",
   "execution_count": null,
   "id": "eccc69c8-bdad-42de-b0db-347a9f4b9c3a",
   "metadata": {},
   "outputs": [],
   "source": []
  },
  {
   "cell_type": "code",
   "execution_count": null,
   "id": "dc4df418-be0b-4cff-8235-a08f5b1a8e87",
   "metadata": {},
   "outputs": [],
   "source": []
  },
  {
   "cell_type": "code",
   "execution_count": null,
   "id": "cd68088e-d8c1-4d43-aa44-8677d81a4428",
   "metadata": {},
   "outputs": [],
   "source": []
  },
  {
   "cell_type": "code",
   "execution_count": null,
   "id": "8b403d8e-d261-496d-9743-ca4ea358eca5",
   "metadata": {},
   "outputs": [],
   "source": []
  },
  {
   "cell_type": "code",
   "execution_count": null,
   "id": "65860815-af65-4c47-a0c7-fd18cb41b280",
   "metadata": {},
   "outputs": [],
   "source": []
  }
 ],
 "metadata": {
  "kernelspec": {
   "display_name": "Python 3",
   "language": "python",
   "name": "python3"
  },
  "language_info": {
   "codemirror_mode": {
    "name": "ipython",
    "version": 3
   },
   "file_extension": ".py",
   "mimetype": "text/x-python",
   "name": "python",
   "nbconvert_exporter": "python",
   "pygments_lexer": "ipython3",
   "version": "3.8.8"
  }
 },
 "nbformat": 4,
 "nbformat_minor": 5
}
